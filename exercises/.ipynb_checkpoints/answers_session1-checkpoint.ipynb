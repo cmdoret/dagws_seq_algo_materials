{
 "cells": [
  {
   "cell_type": "markdown",
   "metadata": {},
   "source": [
    "## Session 1: Time complexity and data structures\n",
    "\n",
    "In this first exercise worksheet, you will be using algorithms and data structures to gain basic insights into genetic data."
   ]
  },
  {
   "cell_type": "markdown",
   "metadata": {},
   "source": [
    "### Exercise 1: Working with k-mers\n",
    "\n",
    "K-mers are subsequences of a DNA sequence length k. The shortest possible k-mers, where k = 1, are known as _monomers_ and are just words of 1 letters. There are 4 possible monomers: A, C, T, G. Likewise, there are 16 possible k-mers of k=2, known as _dimers_ (AA, AC, AG, AT, ...) and so on...\n",
    "\n",
    "<img style=\"float: right;\" alt=\"\" src=\"./images/kmers.svg\" />\n",
    "\n",
    "a) How many distinct k-mer of fixed length k exist ?\n",
    "\n",
    "b) How many k-mers of length k can we fit in a sequence of length L ?\n",
    "\n",
    "c) Write the `get_unique_kmers` function to record all the unique k-mers found in an input DNA sequence.\n",
    "\n",
    "d) Out of the 3 genes provided, which pair of genes share the most identical k-mers ?"
   ]
  },
  {
   "cell_type": "code",
   "execution_count": 1,
   "metadata": {},
   "outputs": [],
   "source": [
    "# 3 genes are stored in a file, in FASTA format we load their sequences into biopython\n",
    "from Bio import SeqIO\n",
    "gene1, gene2, gene3 = [str(a.seq) for a in SeqIO.parse('data/session_1.fasta', format='fasta')]\n"
   ]
  },
  {
   "cell_type": "code",
   "execution_count": 2,
   "metadata": {},
   "outputs": [],
   "source": [
    "def get_unique_kmers(dna_string, k=3):\n",
    "    \"\"\"\n",
    "    Add code to make this function return all unique\n",
    "    k-mers of requested length in an input DNA sequence.\n",
    "    \n",
    "    >> get_unique_kmers(\"ACATA\", k=3)\n",
    "    (\"ACA\", \"CAT\", \"ATA\")\n",
    "    \"\"\"\n",
    "    kmers = set()\n",
    "    seq_len = len(dna_string)\n",
    "    # Scan each position in the sequence\n",
    "    for i in range(seq_len - (k - 1)):\n",
    "        # Add it to our set (i.e. hash table)\n",
    "        kmers.add(dna_string[i: i+k])\n",
    "    \n",
    "    return kmers\n"
   ]
  },
  {
   "cell_type": "code",
   "execution_count": 3,
   "metadata": {},
   "outputs": [
    {
     "name": "stdout",
     "output_type": "stream",
     "text": [
      "Genes 1 and 2 share 215 k-mers\n",
      "Genes 1 and 3 share 17 k-mers\n",
      "Genes 2 and 3 share 18 k-mers\n",
      "Jaccard index for genes 1 and 2: 0.15\n",
      "Jaccard index for genes 1 and 3: 0.01\n",
      "Jaccard index for genes 2 and 3: 0.01\n"
     ]
    }
   ],
   "source": [
    "\n",
    "k = 8\n",
    "# Compute the unique k-mer for each gene and store them in a list\n",
    "kmers_genes = [get_unique_kmers(g, k=k) for g in [gene1, gene2, gene3]]\n",
    "\n",
    "# Which pair of genes share the most k-mers ?\n",
    "\n",
    "# Compute the shared k-mers for each combination of genes\n",
    "for i, ki in enumerate(kmers_genes):\n",
    "    for j, kj in enumerate(kmers_genes):\n",
    "        # Skip redundant combinations (e.g. compute 1vs2 but not 2vs1)\n",
    "        if i < j:\n",
    "            # & is the python shortcut for set intersections (k-mers in both sets)\n",
    "            shared = len(ki & kj)\n",
    "            print(f\"Genes {i+1} and {j+1} share {shared} k-mers\")\n",
    "\n",
    "# Can you think of a better similarity metric than this ?\n",
    "# > Yes, Jaccard index, which takes into account the total amount of k-mers. Otherwise\n",
    "# > longer gene are more likely to share more k-mers.\n",
    "for i, ki in enumerate(kmers_genes):\n",
    "    for j, kj in enumerate(kmers_genes):\n",
    "        if i < j:\n",
    "            # Jaccard index is the intersect divided by the union\n",
    "            # i.e.: number of common k-mers divided by the total number of k-merss\n",
    "            jaccard = len(ki & kj) / len(ki | kj) # &=intersect, |=union\n",
    "            print(f\"Jaccard index for genes {i+1} and {j+1}: {jaccard:.2f}\")\n",
    "\n",
    "\n",
    "# What happens if you reduce k ? Why ?\n",
    "# > Genes become all identical. Because, given a small enough k, all possible k-mers are present in all genes.\n",
    "\n",
    "# Note: \n",
    "# Genes 1 and 2 are much more similar ! They are actually hemoglobin alpha1 from human and cat, respectively\n",
    "# gene 3 is a bacterial enzyme.\n"
   ]
  },
  {
   "cell_type": "markdown",
   "metadata": {},
   "source": [
    "### Exercice 2: Quantifying similarity\n",
    "\n",
    "Instead of just recording presence / absence of k-mers, we can count the number of occurence of each k-mer in a sequence. K-mer frequencies are widely used in genomics to detect contamination in sequencing libraries or estimate genomic features such as ploidy or heterozygosity.\n",
    "\n",
    "a) Write the `get_kmer_counts` function to retrieve each k-mer in a DNA sequence along with its number of occurences.\n",
    "\n",
    "b) Compute the pairwise distance between the genes' k-mers counts.\n",
    "\n",
    "c) What is the time complexity of computing the pairwise distance between two counts ?"
   ]
  },
  {
   "cell_type": "code",
   "execution_count": 4,
   "metadata": {},
   "outputs": [],
   "source": [
    "from math import sqrt\n",
    "\n",
    "def get_kmers_counts(dna_string, k=3):\n",
    "    \"\"\"\n",
    "    Add code to make this function return the k-mer\n",
    "    counts of an input DNA sequence.\n",
    "\n",
    "    >> get_kmers_counts(\"ACATAC\", k=2)\n",
    "    {\n",
    "       \"AC\": 2,\n",
    "       \"AT\": 1,\n",
    "       \"CA\": 1,\n",
    "       \"TA\": 1,\n",
    "    }\n",
    "    \"\"\"\n",
    "    kmers_counts = dict()\n",
    "    seq_len = len(dna_string)\n",
    "    for i in range(seq_len - (k - 1)):\n",
    "        # Python protip: We could have used a collections.defaultdict\n",
    "        # object instead of a try/except statement.\n",
    "        try:\n",
    "            kmers_counts[dna_string[i: i+k]] += 1\n",
    "        except KeyError:\n",
    "            kmers_counts[dna_string[i: i+k]] = 1\n",
    "        \n",
    "    return kmers_counts\n",
    "\n",
    "\n",
    "def pairwise_dist_kmers_counts(kmer_count1, kmer_count2):\n",
    "    \"\"\"\n",
    "    This function should return the euclidean distance\n",
    "    between two k-mer counts.\n",
    "    \n",
    "    >>> pairwise_dist_kmers_counts({'AA': 10, 'AC': 3}, {'AA': 1, 'AT': 2})\n",
    "    9.695359714832659\n",
    "    \"\"\"\n",
    "    # Getting the list of all k-mers present in either set\n",
    "    all_kmers = set(kmer_count1.keys()) | set(kmer_count2.keys())\n",
    "    dist = 0\n",
    "    # Iterate over every possible k-mer\n",
    "    for kmer in all_kmers:\n",
    "        # Record their counts in both sets (absent means 0 occurence)\n",
    "        try:\n",
    "            c1 = kmer_count1[kmer]\n",
    "        except KeyError:\n",
    "            c1 = 0\n",
    "        try:\n",
    "            c2 = kmer_count2[kmer]\n",
    "        except KeyError:\n",
    "            c2 = 0\n",
    "        \n",
    "        dist += (c2 - c1)**2\n",
    "    \n",
    "    dist = sqrt(dist)\n",
    "    \n",
    "    return dist\n",
    "\n"
   ]
  },
  {
   "cell_type": "code",
   "execution_count": 5,
   "metadata": {},
   "outputs": [
    {
     "name": "stdout",
     "output_type": "stream",
     "text": [
      "The distance between genes 1 and 2 is: 27.80287754891569\n",
      "The distance between genes 1 and 3 is: 58.77924803874238\n",
      "The distance between genes 2 and 3 is: 60.876925020897694\n"
     ]
    }
   ],
   "source": [
    "k = 4\n",
    "\n",
    "counts = [get_kmers_counts(g, k=k) for g in [gene1, gene2, gene3]]\n",
    "for a, count_a in enumerate(counts):\n",
    "    for b, count_b in enumerate(counts):\n",
    "        if a < b:\n",
    "            dist = pairwise_dist_kmers_counts(count_a, count_b)\n",
    "            print(f\"The distance between genes {a+1} and {b+1} is: {dist}\")\n",
    "\n",
    "\n",
    "# Which are the two most similar genes ? How does changing k affect the result ? (and why ?)\n",
    "# > Same as before, genes 1 and 2 are most similar. Increasing k reduces the contrast between distances\n",
    "# > if k becomes too large, the majority of k-mers are absent and distances become inacurrate.\n",
    "\n",
    "# What's the time complexity of using pairwise_dist_kmer_counts on a pair of genes ?\n",
    "# > O(n) where n = the total number of k-mers in both sets\n",
    "\n",
    "# And computing all pairwise distances between N genes ?\n",
    "# > O(n^2)\n"
   ]
  },
  {
   "cell_type": "markdown",
   "metadata": {},
   "source": [
    "### Additional information:\n",
    "    \n",
    "If you are interested in k-mers, here are a few examples of how they are used in the wild:\n",
    "    \n",
    "* The sequence read archive (SRA) is the largest public database of genomic data in the world. It uses k-mer analysis on all of their libraries to quantify their taxonomic content and detect contaminations. You can view an example here by clicking on the \"analysis\" tab (the algorithm is described at the bottom of the page): https://trace.ncbi.nlm.nih.gov/Traces/sra/?run=SRR11945594\n",
    "* Genomescope and smudgeplot use K-mer profiles to predict genome length, heterozygosity and ploidy from k-mer profiles: https://www.nature.com/articles/s41467-020-14998-3\n",
    "* Sourmash identifies the different organisms present in a metagenome: https://sourmash.readthedocs.io/en/latest/tutorials.html\n"
   ]
  },
  {
   "cell_type": "code",
   "execution_count": null,
   "metadata": {},
   "outputs": [],
   "source": []
  }
 ],
 "metadata": {
  "kernelspec": {
   "display_name": "Python 3",
   "language": "python",
   "name": "python3"
  },
  "language_info": {
   "codemirror_mode": {
    "name": "ipython",
    "version": 3
   },
   "file_extension": ".py",
   "mimetype": "text/x-python",
   "name": "python",
   "nbconvert_exporter": "python",
   "pygments_lexer": "ipython3",
   "version": "3.7.5"
  }
 },
 "nbformat": 4,
 "nbformat_minor": 2
}
