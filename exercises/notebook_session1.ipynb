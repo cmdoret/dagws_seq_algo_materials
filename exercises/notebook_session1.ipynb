{
 "cells": [
  {
   "cell_type": "markdown",
   "metadata": {},
   "source": [
    "## Session 1: Time complexity and data structures\n",
    "\n",
    "In this first exercise worksheet, you will be using algorithms and data structures to gain basic insights into genetic data."
   ]
  },
  {
   "cell_type": "markdown",
   "metadata": {},
   "source": [
    "### Exercise 1: Working with k-mers\n",
    "\n",
    "K-mers are subsequences of a DNA sequence length k. The shortest possible k-mers, where k = 1, are known as _monomers_ and are just words of 1 letters. There are 4 possible monomers: A, C, T, G. Likewise, there are 16 possible k-mers of k=2, known as _dimers_ (AA, AC, AG, AT, ...) and so on...\n",
    "\n",
    "<img style=\"float: right;\" alt=\"\" src=\"./images/kmers.svg\" />\n",
    "\n",
    "a) How many distinct k-mer of fixed length k exist ?\n",
    "\n",
    "b) How many k-mers of length k can we fit in a sequence of length L ?\n",
    "\n",
    "c) Write the `get_unique_kmers` function to record all the unique k-mers found in an input DNA sequence.\n",
    "\n",
    "d) Out of the 3 genes provided, which pair of genes share the most identical k-mers ?"
   ]
  },
  {
   "cell_type": "code",
   "execution_count": 2,
   "metadata": {},
   "outputs": [],
   "source": [
    "# 3 genes are stored in a file, in FASTA format we load their sequences into biopython\n",
    "from Bio import SeqIO\n",
    "gene1, gene2, gene3 = [str(a.seq) for a in SeqIO.parse('data/session_1.fasta', format='fasta')]"
   ]
  },
  {
   "cell_type": "code",
   "execution_count": 56,
   "metadata": {},
   "outputs": [
    {
     "data": {
      "text/plain": [
       "{'AC', 'CA', 'CG', 'GG', 'GT'}"
      ]
     },
     "execution_count": 56,
     "metadata": {},
     "output_type": "execute_result"
    }
   ],
   "source": [
    "def get_unique_kmers(dna_string, k=3):\n",
    "    \"\"\"\n",
    "    Add code to make this function return all unique\n",
    "    k-mers of requested length in an input DNA sequence.\n",
    "    \n",
    "    >> get_unique_kmers(\"ACATA\", k=3)\n",
    "    (\"ACA\", \"CAT\", \"ATA\")\n",
    "    \"\"\"\n",
    "    kmers = set()\n",
    "    ...\n",
    "    return kmers\n",
    "\n",
    "get_unique_kmers('ACACGGT', k=2)"
   ]
  },
  {
   "cell_type": "code",
   "execution_count": 70,
   "metadata": {},
   "outputs": [
    {
     "name": "stdout",
     "output_type": "stream",
     "text": [
      "Genes 1 and 2 share 215 k-mers\n",
      "Genes 1 and 3 share 17 k-mers\n",
      "Genes 2 and 3 share 18 k-mers\n",
      "Jaccard index for genes 1 and 2: 0.15\n",
      "Jaccard index for genes 1 and 3: 0.01\n",
      "Jaccard index for genes 2 and 3: 0.01\n"
     ]
    }
   ],
   "source": [
    "k = 8\n",
    "kmers_gene1 = get_unique_kmers(gene1, k=k)\n",
    "kmers_gene2 = get_unique_kmers(gene2, k=k)\n",
    "kmers_gene3 = get_unique_kmers(gene3, k=k)\n",
    "\n",
    "# Which pair of genes share the most k-mers ?\n",
    "\n",
    "# Compute the shared k-mers for each combination of genes\n",
    "                                            \n",
    "# Can you think of a better similarity metric than this ?\n",
    "\n",
    "# What happens if you reduce k ? Why ?"
   ]
  },
  {
   "cell_type": "markdown",
   "metadata": {},
   "source": [
    "### Exercice 2: Quantifying similarity\n",
    "\n",
    "Instead of just recording presence / absence of k-mers, we can count the number of occurence of each k-mer in a sequence. K-mer frequencies are widely used in genomics to detect contamination in sequencing libraries or estimate genomic features such as ploidy or heterozygosity.\n",
    "\n",
    "a) Write the `get_kmer_counts` function to retrieve each k-mer in a DNA sequence along with its number of occurences.\n",
    "\n",
    "b) Write the `pairwise_dist_kmer_counts` function to compute the pairwise euclidean distance between the genes' k-mers counts.\n",
    "> Note: Given two k-mer counts $C_1$ and $C_2$ containing counts for the set of k-mers $K = \\{k_1, ..., k_n\\}$, the euclidean distance is defined as $D_{C_1,C_2} = \\sqrt{\\sum^{k_n}_{k=k_i}{(C_{1,k} - C_{2,k})^2}}$.\n",
    "\n",
    "c) Which are the two most similar genes in terms of k-mer counts ?\n",
    "\n",
    "d) What is the time complexity of computing the pairwise distance between two counts ?"
   ]
  },
  {
   "cell_type": "code",
   "execution_count": 86,
   "metadata": {},
   "outputs": [],
   "source": [
    "from math import sqrt\n",
    "\n",
    "def get_kmers_counts(dna_string, k=3):\n",
    "    \"\"\"\n",
    "    Add code to make this function return the k-mer\n",
    "    counts of an input DNA sequence.\n",
    "\n",
    "    >> get_kmers_counts(\"ACATAC\", k=2)\n",
    "    {\n",
    "       \"AC\": 2,\n",
    "       \"AT\": 1,\n",
    "       \"CA\": 1,\n",
    "       \"TA\": 1,\n",
    "    }\n",
    "    \"\"\"\n",
    "    kmers_counts = {}\n",
    "     ...\n",
    "    return kmers_counts\n",
    "\n",
    "\n",
    "def pairwise_dist_kmers_counts(kmer1, kmer2):\n",
    "    \"\"\"\n",
    "    This function should return the Euclidean distance\n",
    "    between two k-mer counts.\n",
    "    \n",
    "    >>> pairwise_dist_kmers_counts({'AA': 10, 'AC': 3}, {'AA': 1, 'AT': 2})\n",
    "    9.695359714832659\n",
    "    \"\"\"\n",
    "    dist = 0\n",
    "    \n",
    "    ...\n",
    "    \n",
    "    return dist\n"
   ]
  },
  {
   "cell_type": "code",
   "execution_count": 92,
   "metadata": {},
   "outputs": [
    {
     "name": "stdout",
     "output_type": "stream",
     "text": [
      "The distance between genes 1 and 2 is: 281\n",
      "The distance between genes 1 and 3 is: 597\n",
      "The distance between genes 2 and 3 is: 583\n"
     ]
    }
   ],
   "source": [
    "k = 4\n",
    "count1 = get_kmers_counts(gene1, k=k)\n",
    "count2 = get_kmers_counts(gene2, k=k)\n",
    "\n",
    "pairwise_dist_kmers_counts(count1, count2)\n",
    "#...\n",
    "\n",
    "# Which are the two most similar genes ? How does changing k affect the result ? (and why ?)\n",
    "\n",
    "# What's the time complexity of using pairwise_dist_kmer_counts on a pair of genes ?\n",
    "\n",
    "# And computing all pairwise distances between N genes ?"
   ]
  },
  {
   "cell_type": "markdown",
   "metadata": {},
   "source": [
    "### Additional information:\n",
    "    \n",
    "If you are interested in k-mers, here are a few examples of how they are used in the wild:\n",
    "    \n",
    "* The sequence read archive (SRA) is the largest public database of genomic data in the world. It uses k-mer analysis on all of their libraries to quantify their taxonomic content and detect contaminations. You can view an example here by clicking on the \"analysis\" tab (the algorithm is described at the bottom of the page): https://trace.ncbi.nlm.nih.gov/Traces/sra/?run=SRR11945594\n",
    "* Genomescope and smudgeplot use K-mer profiles to predict genome length, heterozygosity and ploidy from k-mer profiles: https://www.nature.com/articles/s41467-020-14998-3\n",
    "* Sourmash identifies the different organisms present in a metagenome: https://sourmash.readthedocs.io/en/latest/tutorials.html\n",
    "* PlasClass uses logistic regression on k-mer frequency vectors to detect whether they originate from a plasmid sequence or a chromosomal segment. This is a binary classification based tool: https://github.com/Shamir-Lab/PlasClass/\n"
   ]
  }
 ],
 "metadata": {
  "kernelspec": {
   "display_name": "Python 3",
   "language": "python",
   "name": "python3"
  },
  "language_info": {
   "codemirror_mode": {
    "name": "ipython",
    "version": 3
   },
   "file_extension": ".py",
   "mimetype": "text/x-python",
   "name": "python",
   "nbconvert_exporter": "python",
   "pygments_lexer": "ipython3",
   "version": "3.7.8"
  }
 },
 "nbformat": 4,
 "nbformat_minor": 2
}
